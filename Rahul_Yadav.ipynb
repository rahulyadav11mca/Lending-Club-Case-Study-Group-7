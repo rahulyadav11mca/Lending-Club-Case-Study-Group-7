{
 "cells": [
  {
   "cell_type": "markdown",
   "id": "f1d923ac",
   "metadata": {},
   "source": [
    "# Lending Club Case Study"
   ]
  },
  {
   "cell_type": "markdown",
   "id": "accf347d",
   "metadata": {},
   "source": [
    "## 1. Data Understanding\n",
    "\n",
    "1. Problem Statement\n",
    "2. Dataset Attributes\n",
    "3. Dataset Row Analysis\n",
    "4. Dataset Column Analysis\n",
    "5. Handling missing data\n",
    "6. Handling Outliers"
   ]
  },
  {
   "cell_type": "markdown",
   "id": "4bcf8aee",
   "metadata": {},
   "source": [
    "### 1.1. Problem Statement\n",
    "\n",
    "You work for a consumer finance company which specialises in lending various types of loans to urban customers. When the company receives a loan application, the company has to make a decision for loan approval based on the applicant’s profile. Two types of risks are associated with the bank’s decision:\n",
    "\n",
    "1. If the applicant is likely to repay the loan, then not approving the loan results in a loss of business to the company.\n",
    "2. If the applicant is not likely to repay the loan, i.e. he/she is likely to default, then approving the loan may lead to a financial loss for the company."
   ]
  },
  {
   "cell_type": "markdown",
   "id": "353bb1ad",
   "metadata": {},
   "source": [
    "### 1.2. Dataset Attributes\n",
    "#### Decision Matrix\n",
    "When a person applies for a loan, there are two types of decisions that could be taken by the company:\n",
    "1. Loan accepted: If the company approves the loan, there are 3 possible scenarios described below:\n",
    "- Fully paid: Applicant has fully paid the loan (the principal and the interest rate)\n",
    "- Current: Applicant is in the process of paying the instalments, i.e. the tenure of the loan is not yet - completed. These candidates are not labelled as 'defaulted'.\n",
    "- Charged-off: Applicant has not paid the instalments in due time for a long period of time, i.e. he/she has defaulted on the loan \n",
    "2. Loan rejected: The company had rejected the loan (because the candidate does not meet their requirements etc.). Since the loan was rejected, there is no transactional history of those applicants with the company and so this data is not available with the company (and thus in this dataset)\n",
    "#### Business Objectives\n",
    "This company is the largest online loan marketplace, facilitating personal loans, business loans, and financing of medical procedures. Borrowers can easily access lower interest rate loans through a fast online interface. \n",
    "\n",
    "Like most other lending companies, lending loans to ‘risky’ applicants is the largest source of financial loss (called credit loss). The credit loss is the amount of money lost by the lender when the borrower refuses to pay or runs away with the money owed. In other words, borrowers who default cause the largest amount of loss to the lenders. In this case, the customers labelled as 'charged-off' are the 'defaulters'. \n",
    "\n",
    "If one is able to identify these risky loan applicants, then such loans can be reduced thereby cutting down the amount of credit loss. Identification of such applicants using EDA is the aim of this case study.\n",
    "\n",
    "In other words, the company wants to understand the driving factors (or driver variables) behind loan default, i.e. the variables which are strong indicators of default.  The company can utilise this knowledge for its portfolio and risk assessment. \n"
   ]
  },
  {
   "cell_type": "markdown",
   "id": "de4ed102",
   "metadata": {},
   "source": [
    "### 1.5. Dataset Row Analysis\n",
    "\n",
    "- **Header & Footer Rows:** No header or footer rows in the dataset.\n",
    "- **Extra Rows:** No column numbers, indicators, etc., found in the dataset.\n",
    "- **Summary Rows:** No summary rows in the dataset.\n",
    "- **Dropping Loan Status Rows with \"Current\" status:** Rows with a \"loan_status\" of \"Current\" will be dropped as they represent loans in progress and do not contribute to loan approval decisions. This step also helps clean up unnecessary columns related to \"Current\" loans and handle columns with NA values efficiently.\n",
    "- **Identifying and Removing Duplicate Rows:** Duplicate rows in the dataset will be identified and removed if present.\n"
   ]
  },
  {
   "cell_type": "markdown",
   "id": "072c241d",
   "metadata": {},
   "source": [
    "### 1.6. Dataset Column Analysis\n",
    "\n",
    "#### Dropping Columns \n",
    "- 54 columns contain **NA values only**, and these columns will be removed.\n",
    "    - Columns to be dropped: \n",
    "        - `acc_open_past_24mths`, `all_util`, `annual_inc_joint`, `avg_cur_bal`, `bc_open_to_buy`, `bc_util`, `dti_joint`, `il_util`, `inq_fi`, `inq_last_12m, max_bal_bc`, `mo_sin_old_il_acct`, `mo_sin_old_rev_tl_op`, `mo_sin_rcnt_rev_tl_op`, `mo_sin_rcnt_tl`, `mort_acc`, `mths_since_last_major_derog`, `mths_since_rcnt_il`, `mths_since_recent_bc`, `mths_since_recent_bc_dlq`, `mths_since_recent_inq`, `mths_since_recent_revol_delinq`, `num_accts_ever_120_pd`, `num_actv_bc_tl`, `num_actv_rev_tl`, `num_bc_sats`, `num_bc_tl`, `num_il_tl`, `num_op_rev_tl`, `num_rev_accts`, `num_rev_tl_bal_gt_0`, `num_sats`, `num_tl_120dpd_2m`, `num_tl_30dpd`, `num_tl_90g_dpd_24m`, `num_tl_op_past_12m`, `open_acc_6m`, `open_il_12m`, `open_il_24m`, `open_il_6m`, `open_rv_12m`, `open_rv_24m`, `pct_tl_nvr_dlq`, `percent_bc_gt_75`, `tot_coll_amt`, `tot_cur_bal`, `tot_hi_cred_lim`, `total_bal_ex_mort`, `total_bal_il`, `total_bc_limit`, `total_cu_tl`, `total_il_high_credit_limit`, `total_rev_hi_lim`, `verification_status_joint` \n",
    "\n",
    "- Certain columns contain **only zero values**, and these columns will also be dropped.\n",
    "- 9 Columns with **single value** that do not contribute to the analysis will be removed.\n",
    "- Columns with values that are **single value but have other values as NA** will be treated as constant and dropped.\n",
    "- Columns with **more than 65% of data being empty** `(mths_since_last_delinq, mths_since_last_record)` will be dropped.\n",
    "- Columns `(id, member_id)` will be dropped as they are index variables with unique values and do not contribute to the analysis.\n",
    "- Columns `(emp_title, desc, title)` will be dropped as they contain descriptive text (nouns) and do not contribute to the analysis.\n",
    "- The redundant column `(url)` will be dropped. Further analysis reveals that the URL is a static path with the loan ID appended as a query, making it redundant compared to the `(id)` column.\n",
    "- Customer behavior columns that represent data **post the approval of loans** will not be considered in the analysis and will be dropped.\n",
    "- 660 records for `pub_rec_bankruptcies` are dropped due to missing values\n",
    "    - These columns capture customer behavior recorded after loan approval and are not available at the time of loan approval. Thus, these variables will not be included in the analysis.\n",
    "    - Columns to be dropped: `(delinq_2yrs, earliest_cr_line, inq_last_6mths, open_acc, pub_rec, revol_bal, revol_util, total_acc, out_prncp, out_prncp_inv, total_pymnt, total_pymnt_inv, total_rec_prncp, total_rec_int, total_rec_late_fee, recoveries, collection_recovery_fee, last_pymnt_d, last_pymnt_amnt, last_credit_pull_d, application_type)`\n",
    "\n",
    "#### Converting Column Format\n",
    "- Columns `(loan_amnt, funded_amnt, funded_amnt_inv)` are currently in object format and will be converted to float.\n",
    "- Columns `(int_rate, installment, dti)` are currently in object format and will be converted to float.\n",
    "- The `term` column will have the \"months\" text stripped and will be converted to an integer.\n",
    "- Percentage columns like `(int_rate)` are currently in object format. These columns will have the \"%\" character stripped and will be converted to float.\n",
    "- The `issue_d` column will be converted to datetime format with date in **YYYY-mm-dd** format.\n",
    "\n",
    "#### Standardizing Values\n",
    "- All currency columns will be rounded off to 2 decimal places, as currency values are limited to cents.\n",
    "- Similar values for `home_ownership` like `NONE` and `OTHER` has been standardized as `OTHER`.\n",
    "- Similar values for `verification_status` like `Source Verified` and `Verified` has been standardized as `Verified` \n",
    "\n",
    "#### Converting Column Values\n",
    "- The `emp_length` column will be converted to an integer with the following logic:\n",
    "    - `< 1 year`: 0\n",
    "    - `2 years`: 2\n",
    "    - `3 years`: 3\n",
    "    - `4 years`: 4\n",
    "    - `5 years`: 5\n",
    "    - `1 year`: 1\n",
    "    - `6 years`: 6\n",
    "    - `7 years`: 7\n",
    "    - `8 years`: 8\n",
    "    - `9 years`: 9\n",
    "    - `10+ years`: 10\n",
    "\n",
    "#### Added New Columns\n",
    "- `issue_y` represents the year extracted from `issue_d`.\n",
    "- `issue_m` represents the month extracted from `issue_d`.\n",
    "- `issue_q` has been added for binning the data quarter-wise.\n",
    "- `loan_paid` has been added for simple mapping of Yes (Fully Paid) or No (Charged Off).\n",
    "- `dti_bucket` has been added for binning DTI values from 8 (Very Low) to 20 (Very High).\n",
    "- `loan_amnt_bucket` has been added for binning loan amount values.\n",
    "- `funded_amnt_bucket` has been added for binning funded amount values.\n",
    "- `annual_inc_bucket` has been added for binning annual income values.\n",
    "- `int_rate_bucket` has been added for binning interest rate values.\n"
   ]
  },
  {
   "cell_type": "markdown",
   "id": "ff797219",
   "metadata": {},
   "source": [
    "### 1.7. Handling Missing Data\n",
    "\n",
    "* **Dropping Columns:** Columns with a high percentage of missing values, specifically those exceeding 65%, will be removed.\n",
    "* **Removing Rows:** Rows with a high percentage of missing values, exceeding 65%, will be removed from the dataset.\n",
    "* **Imputing Missing Values:** Columns with a lower percentage of missing values will undergo imputation to fill in the missing data."
   ]
  },
  {
   "cell_type": "markdown",
   "id": "5f4eba21",
   "metadata": {},
   "source": [
    "### 1.8. Handling Outliers\n",
    "\n",
    "- In this analysis, the approach adopted is to remove all outlier values.\n",
    "- The evaluation for outliers is performed on the following columns: `loan_amnt`, `funded_amnt`, `funded_amnt_inv`, `int_rate`, `installment`, `annual_inc`, `dti`.\n"
   ]
  },
  {
   "cell_type": "markdown",
   "id": "748570c2",
   "metadata": {},
   "source": [
    "## 2. Data Cleaning and Manipulation\n",
    "\n",
    "1. Loading data from loan CSV\n",
    "2. Checking for null values in the dataset\n",
    "3. Checking for unique values\n",
    "4. Checking for duplicated rows in data\n",
    "5. Dropping records\n",
    "6. Common Functions\n",
    "7. Data Conversion\n",
    "8. Outlier Treatment\n",
    "9. Imputing values in Columns"
   ]
  },
  {
   "cell_type": "markdown",
   "id": "db4c9b32",
   "metadata": {},
   "source": [
    "### 2.1. Loading data from loan CSV"
   ]
  },
  {
   "cell_type": "code",
   "execution_count": null,
   "id": "16d1c3e8",
   "metadata": {
    "scrolled": true
   },
   "outputs": [],
   "source": [
    "loan_df = pd.read_csv('loan.csv')\n",
    "loan_df"
   ]
  },
  {
   "cell_type": "markdown",
   "id": "125adb82",
   "metadata": {},
   "source": [
    "### 2.2. Checking for null values in the dataset"
   ]
  },
  {
   "cell_type": "code",
   "execution_count": null,
   "id": "3a51b0a6",
   "metadata": {},
   "outputs": [],
   "source": [
    "loan_df.isna().sum().sort_values(ascending=False)"
   ]
  },
  {
   "cell_type": "markdown",
   "id": "3c3aadff",
   "metadata": {},
   "source": [
    "###### There are a lot of empty columns in the loan dataset. Dropping those columns from the dataset and then checking the dataset shape"
   ]
  },
  {
   "cell_type": "code",
   "execution_count": null,
   "id": "b9907ef6",
   "metadata": {},
   "outputs": [],
   "source": [
    "cols_dropped = 0\n",
    "for col in sorted(loan_df.columns):\n",
    "    if loan_df[col].isna().sum() == loan_df.shape[0]:\n",
    "        cols_dropped = cols_dropped + 1\n",
    "        \n",
    "print(f'Percentage of dropped columns = {round(cols_dropped / loan_df.shape[1] * 100, 2)}%')\n"
   ]
  },
  {
   "cell_type": "code",
   "execution_count": 11,
   "id": "14f4df3f",
   "metadata": {},
   "outputs": [
    {
     "data": {
      "text/plain": [
       "(39717, 57)"
      ]
     },
     "execution_count": 11,
     "metadata": {},
     "output_type": "execute_result"
    }
   ],
   "source": [
    "loan_df.dropna(axis = 1, how = 'all', inplace = True)\n",
    "loan_df.shape"
   ]
  },
  {
   "cell_type": "markdown",
   "id": "ae618239",
   "metadata": {},
   "source": [
    "### 2.3. Checking for unique values\n",
    "\n",
    "##### If the column has only a single unique value, it does not make any sense to include it as part of our data analysis. We need to find out those columns and drop them from the dataset"
   ]
  },
  {
   "cell_type": "code",
   "execution_count": 12,
   "id": "2aa45cef",
   "metadata": {},
   "outputs": [],
   "source": [
    "remove_columns_list = []\n",
    "for i in loan_df.columns:\n",
    "    # Check if unique value count is 1\n",
    "    if loan_df[i].nunique() == 1:\n",
    "        remove_columns_list.append(i)\n",
    "    \n",
    "\n",
    "# Remove those columns\n",
    "loan_df.drop(remove_columns_list, axis = 1, inplace = True)"
   ]
  },
  {
   "cell_type": "code",
   "execution_count": null,
   "id": "a98d8c1f",
   "metadata": {},
   "outputs": [],
   "source": [
    "loan_df.shape"
   ]
  },
  {
   "cell_type": "markdown",
   "id": "1cd237b9",
   "metadata": {},
   "source": [
    "### 2.4. Checking for duplicated rows in data"
   ]
  },
  {
   "cell_type": "code",
   "execution_count": null,
   "id": "c77a9bc4",
   "metadata": {},
   "outputs": [],
   "source": [
    "loan_df[loan_df.duplicated()]"
   ]
  },
  {
   "cell_type": "markdown",
   "id": "27bad797",
   "metadata": {},
   "source": [
    "###### There is no duplicate row found"
   ]
  },
  {
   "cell_type": "markdown",
   "id": "250544d1",
   "metadata": {},
   "source": [
    "### 2.5 Dropping records"
   ]
  },
  {
   "cell_type": "markdown",
   "id": "f78ce161",
   "metadata": {},
   "source": [
    "#### Dropping records where loan_status = 'Current'\n",
    "\n",
    "###### The loan in progress cannot provide us insights as to whether the borrower is likely to default or not. Hence, dropping those records"
   ]
  },
  {
   "cell_type": "code",
   "execution_count": null,
   "id": "c5eed812",
   "metadata": {},
   "outputs": [],
   "source": [
    "loan_df = loan_df[loan_df['loan_status'].str.lower() != \"current\"]\n",
    "loan_df"
   ]
  },
  {
   "cell_type": "markdown",
   "id": "25383afa",
   "metadata": {},
   "source": [
    "#### Dropping columns where missing data is more than equal to 65%\n",
    "\n",
    "###### These columns will skew our data analysis and they need to be removed"
   ]
  },
  {
   "cell_type": "code",
   "execution_count": null,
   "id": "72663092",
   "metadata": {},
   "outputs": [],
   "source": [
    "for col in loan_df.columns:\n",
    "    missing_values = round(loan_df[col].isna().sum() / loan_df.shape[0], 2)\n",
    "    if missing_values >= 0.65:\n",
    "        loan_df.drop(col, axis = 1, inplace = True)\n",
    "        \n",
    "loan_df.shape"
   ]
  },
  {
   "cell_type": "markdown",
   "id": "a057de7f",
   "metadata": {},
   "source": [
    "#### Dropping extra columns containing text like desc, emp_title, id, member_id, title, url, zip_code, etc. (full list below)\n",
    "\n",
    "###### These will not contribute to loan pass or fail"
   ]
  },
  {
   "cell_type": "code",
   "execution_count": 17,
   "id": "c020a12a",
   "metadata": {},
   "outputs": [],
   "source": [
    "# List the columns which are not required for the analysis. Total 27 columns\n",
    "drop_cols = [\n",
    " 'collection_recovery_fee',\n",
    " 'delinq_2yrs',\n",
    " 'desc',\n",
    " 'earliest_cr_line',\n",
    " 'emp_title',\n",
    " 'id',\n",
    " 'inq_last_6mths',\n",
    " 'last_credit_pull_d',\n",
    " 'last_pymnt_amnt',\n",
    " 'last_pymnt_d',\n",
    " 'member_id',\n",
    " 'open_acc',\n",
    " 'out_prncp',\n",
    " 'out_prncp_inv',\n",
    " 'pub_rec',\n",
    " 'recoveries',\n",
    " 'revol_bal',\n",
    " 'revol_util',\n",
    " 'title',\n",
    " 'total_acc',\n",
    " 'total_pymnt',\n",
    " 'total_pymnt_inv',\n",
    " 'total_rec_int',\n",
    " 'total_rec_late_fee',\n",
    " 'total_rec_prncp',\n",
    " 'url',\n",
    " 'zip_code'\n",
    "]\n",
    "\n",
    "loan_df.drop(drop_cols, axis = 1, inplace = True)"
   ]
  },
  {
   "cell_type": "code",
   "execution_count": null,
   "id": "d11a41ef",
   "metadata": {},
   "outputs": [],
   "source": [
    "loan_df.shape"
   ]
  },
  {
   "cell_type": "markdown",
   "id": "867cf1d5",
   "metadata": {},
   "source": [
    "### 2.6. Common Functions"
   ]
  },
  {
   "cell_type": "code",
   "execution_count": 19,
   "id": "bf6b8c2d",
   "metadata": {},
   "outputs": [],
   "source": [
    "def plot_bar_graph(dataframe, x_column, y_column=None, hue_column=None, title=None, xlabel=None, ylabel=None, figsize=(10, 6), x_tick_rotation=90, freq_rotation=0, filter_column=None, filter_value=None):\n",
    "    \"\"\"\n",
    "    Create a Seaborn bar plot for a specified column in a DataFrame.\n",
    "\n",
    "    Parameters:\n",
    "        dataframe (pd.DataFrame): The DataFrame containing the data.\n",
    "        x_column (str): The name of the column to be plotted on the x-axis.\n",
    "        y_column (str, optional): The name of the column to be plotted on the y-axis. Default is None.\n",
    "        hue_column (str, optional): The name of the column to use for color differentiation. Default is None.\n",
    "        title (str, optional): The title of the plot. Default is None.\n",
    "        xlabel (str, optional): Label for the x-axis. Default is None.\n",
    "        ylabel (str, optional): Label for the y-axis. Default is None.\n",
    "        figsize (tuple, optional): Figure size in inches (width, height). Default is (10, 6).\n",
    "        x_tick_rotation (int, optional): Rotation value for x-axis ticks. Default is 90.\n",
    "        freq_rotation (int, optional): Rotation value for the exact frequency labels on each bar. Default is 0.\n",
    "        filter_column (str, optional): The name of the column to filter on. Default is None.\n",
    "        filter_value (any, optional): The value to filter the data on. Default is None.\n",
    "\n",
    "    Returns:\n",
    "        None\n",
    "    \"\"\"\n",
    "    \n",
    "    # Apply the filter if filter_column and filter_value are provided\n",
    "    if filter_column and filter_value is not None:\n",
    "        filtered_dataframe = dataframe[dataframe[filter_column] == filter_value]\n",
    "    else:\n",
    "        filtered_dataframe = dataframe\n",
    "\n",
    "    # Set the style\n",
    "    sns.set(style=\"whitegrid\")\n",
    "\n",
    "    # Create the bar plot\n",
    "    plt.figure(figsize=figsize)\n",
    "    \n",
    "    if y_column:\n",
    "        y_data = filtered_dataframe[y_column].value_counts()\n",
    "        x_data = y_data.index\n",
    "        sns.barplot(x=x_data, y=y_data.values, hue=hue_column)\n",
    "    else:\n",
    "        sns.barplot(data=filtered_dataframe, x=x_column, hue=hue_column)\n",
    "\n",
    "    # Display frequency on top of the bars with rotation\n",
    "    if y_column:\n",
    "        for p in plt.gca().patches:\n",
    "            plt.gca().annotate(f'{int(p.get_height())}', (p.get_x() + p.get_width() / 2, p.get_height()), ha='center', va='bottom', rotation=freq_rotation)\n",
    "\n",
    "    # Set title and labels\n",
    "    if title:\n",
    "        plt.title(title, fontsize=14)\n",
    "    if xlabel:\n",
    "        plt.xlabel(xlabel, fontsize=12)\n",
    "    if ylabel:\n",
    "        plt.ylabel(ylabel, fontsize=12)\n",
    "\n",
    "    # Rotate x-axis labels\n",
    "    plt.xticks(rotation=x_tick_rotation)\n",
    "\n",
    "    # Show the plot\n",
    "    plt.show()"
   ]
  },
  {
   "cell_type": "code",
   "execution_count": 20,
   "id": "775dccc5",
   "metadata": {},
   "outputs": [],
   "source": [
    "def calculate_boxplot_stats(df: pd.DataFrame, column: str, iqr_multiplier: float = 1.5) -> dict:\n",
    "    \"\"\"\n",
    "    Calculate the Interquartile Range (IQR) and the lower and upper bounds for outlier detection.\n",
    "\n",
    "    Parameters:\n",
    "        df (pd.DataFrame): The DataFrame containing the data.\n",
    "        column (str): The name of the column for which to calculate the IQR and bounds.\n",
    "        iqr_multiplier (float, optional): Multiplier for the IQR to determine bounds. Default is 1.5.\n",
    "\n",
    "    Returns:\n",
    "        dict: A dictionary containing the following values:\n",
    "            - 'quartile1': The first quartile (25th percentile).\n",
    "            - 'quartile3': The third quartile (75th percentile).\n",
    "            - 'iqr': The Interquartile Range (IQR).\n",
    "            - 'lower_bound': The lower bound for outlier detection.\n",
    "            - 'upper_bound': The upper bound for outlier detection.\n",
    "    \"\"\"\n",
    "    quartile1 = df[column].quantile(0.25)\n",
    "    quartile3 = df[column].quantile(0.75)\n",
    "    iqr = quartile3 - quartile1\n",
    "    lower_bound = quartile1 - iqr_multiplier * iqr\n",
    "    upper_bound = quartile3 + iqr_multiplier * iqr\n",
    "    return {\n",
    "        'iqr': iqr,\n",
    "        'quartile1': quartile1,\n",
    "        'quartile3': quartile3,\n",
    "        'lower_bound': lower_bound,\n",
    "        'upper_bound': upper_bound\n",
    "    }\n"
   ]
  },
  {
   "cell_type": "code",
   "execution_count": 21,
   "id": "4842f113",
   "metadata": {},
   "outputs": [],
   "source": [
    "def create_boxplot(df: pd.DataFrame, column_name: str, title: str = None, horizontal: bool = True) -> None:\n",
    "    \"\"\"\n",
    "    Create a box plot for a specified column in a DataFrame.\n",
    "\n",
    "    Parameters:\n",
    "        df (pd.DataFrame): The DataFrame containing the data.\n",
    "        column_name (str): The name of the column to be plotted.\n",
    "        title (str, optional): The title of the plot. Default is None.\n",
    "        orient (str): The orientation of the plot. Default is horizontal. Possible values - h, v.\n",
    "\n",
    "    Returns:\n",
    "        None\n",
    "    \"\"\"\n",
    "\n",
    "    if column_name not in df.columns:\n",
    "        print(f\"Error: Column '{column_name}' not found in the DataFrame.\")\n",
    "        return\n",
    "\n",
    "    plt.figure(figsize=(8, 6))\n",
    "    if horizontal:\n",
    "        sns.boxplot(y=df[column_name], orient='h', palette='Set2')\n",
    "    else:\n",
    "        sns.boxplot(x=df[column_name], orient='v', palette='Set2')\n",
    "\n",
    "    if title:\n",
    "        plt.title(title)\n",
    "\n",
    "    plt.xlabel(column_name, fontsize=12)\n",
    "    plt.ylabel('Values', fontsize=12)\n",
    "    plt.show()\n"
   ]
  },
  {
   "cell_type": "code",
   "execution_count": 22,
   "id": "21be7c98",
   "metadata": {},
   "outputs": [],
   "source": [
    "def plot_histogram(data, column, bins=10, title=None, xlabel=None, ylabel=None, figsize=(8, 6)):\n",
    "    \"\"\"\n",
    "    Create a histogram using Seaborn's histplot for a specified column in a DataFrame or Series.\n",
    "\n",
    "    Parameters:\n",
    "        data (pd.DataFrame or pd.Series): The data to be plotted.\n",
    "        column (str): The name of the column or Series to be plotted.\n",
    "        bins (int, optional): The number of bins in the histogram. Default is 10.\n",
    "        title (str, optional): The title of the plot. Default is None.\n",
    "        xlabel (str, optional): Label for the x-axis. Default is None.\n",
    "        ylabel (str, optional): Label for the y-axis. Default is None.\n",
    "        figsize (tuple, optional): Figure size in inches (width, height). Default is (8, 6).\n",
    "\n",
    "    Returns:\n",
    "        None\n",
    "    \"\"\"\n",
    "    # Set the style\n",
    "    sns.set(style=\"whitegrid\")\n",
    "\n",
    "    # Create the histogram\n",
    "    plt.figure(figsize=figsize)\n",
    "    sns.histplot(data=data, x=column, bins=bins, kde=True)\n",
    "\n",
    "    # Set title and labels\n",
    "    if title:\n",
    "        plt.title(title, fontsize=14)\n",
    "    if xlabel:\n",
    "        plt.xlabel(xlabel, fontsize=12)\n",
    "    if ylabel:\n",
    "        plt.ylabel(ylabel, fontsize=12)\n",
    "\n",
    "    # Show the plot\n",
    "    plt.show()"
   ]
  },
  {
   "cell_type": "code",
   "execution_count": 23,
   "id": "dbac9eda",
   "metadata": {},
   "outputs": [],
   "source": [
    "def countplot_graph(data_dict: dict, annot=True) -> None:\n",
    "    \"\"\"\n",
    "    Create a countplot graph.\n",
    "\n",
    "    Args:\n",
    "        data_dict (dict): A dictionary containing the following keys:\n",
    "            - 'data' (DataFrame): The DataFrame containing the data.\n",
    "            - 'x' (str): The column to be plotted on the x-axis.\n",
    "            - 'figsize' (tuple, optional): Size of the figure in (x, y) format.\n",
    "            - 'hue' (str, optional): The column to be used for color differentiation (default None).\n",
    "            - 'order' (list, optional): Order of categorical values on the x-axis (default None).\n",
    "            - 'xlabel' (str, optional): Label for the x-axis (default None).\n",
    "            - 'ylabel' (str, optional): Label for the y-axis (default None).\n",
    "            - 'title' (str, optional): Title for the plot (default None).\n",
    "            - 'palette' (list, optional): List of colors for the plot (default None).\n",
    "            - 'x_tick_rotation' (int, optional): Rotation value for x-axis ticks.\n",
    "        annot (bool): Boolean flag to show or hide annotations. Default is True.\n",
    "\n",
    "    Returns:\n",
    "        None\n",
    "    \"\"\"\n",
    "    df = data_dict['data']\n",
    "    x = data_dict['x']\n",
    "    figsize = data_dict['figsize']\n",
    "    hue = data_dict.get('hue')\n",
    "    order = data_dict.get('order')\n",
    "    x_tick_rotation = data_dict.get('x_tick_rotation')\n",
    "    xlabel = data_dict.get('xlabel')\n",
    "    ylabel = data_dict.get('ylabel')\n",
    "    title = data_dict.get('title')\n",
    "    palette = data_dict.get('palette')\n",
    "\n",
    "    fig, ax = plt.subplots(figsize=figsize, dpi=100)\n",
    "\n",
    "    sns.countplot(x=x, hue=hue, data=df, order=order, palette=palette)\n",
    "\n",
    "    ax.set_xlabel(xlabel)\n",
    "    ax.set_ylabel(ylabel)\n",
    "    \n",
    "    if annot:\n",
    "        for p in ax.patches:\n",
    "            ax.annotate('{:1}'.format(p.get_height()), (p.get_x() + 0.1, p.get_height() + 10))\n",
    "\n",
    "    ax.set_title(title)\n",
    "    \n",
    "    if x_tick_rotation:\n",
    "        plt.xticks(rotation=x_tick_rotation)\n",
    "\n",
    "    plt.show()\n"
   ]
  },
  {
   "cell_type": "code",
   "execution_count": 24,
   "id": "c80ff05c",
   "metadata": {},
   "outputs": [],
   "source": [
    "def plot_charged_off_percentage(df, column, stacked=False):\n",
    "    \"\"\"\n",
    "    Calculate and plot the Charged Off percentage and the number of loans for a specified column.\n",
    "\n",
    "    Args:\n",
    "        df (pd.DataFrame): The DataFrame containing the data.\n",
    "        column (str): The column for which to calculate and plot Charged Off percentage.\n",
    "        stacked (bool, optional): Whether to create a stacked bar plot (default: False).\n",
    "\n",
    "    Returns:\n",
    "        None\n",
    "    \"\"\"\n",
    "    # Calculate Charged Off percentage\n",
    "    charged_off_data = pd.crosstab(df[column], df['loan_status'], margins=True)\n",
    "    charged_off_data['Total'] = charged_off_data['Charged Off'] + charged_off_data['Fully Paid']\n",
    "    charged_off_data['Charged Off %'] = round((charged_off_data['Charged Off'] * 100 / charged_off_data['Total']), 2)\n",
    "    # Remove the last row with sum total\n",
    "    charged_off_data = charged_off_data[0:-1]\n",
    "\n",
    "    # Plot\n",
    "    fig, ax1 = plt.subplots(figsize=(20, 8))\n",
    "\n",
    "    # Line plot for Charged Off Percentage\n",
    "    charged_off_plot = charged_off_data[['Charged Off %']]\n",
    "    line = charged_off_plot.plot(ax=ax1, marker='o', color='r', lw=2)\n",
    "    line.set_title(column.title() + ' vs Charged Off %', fontsize=20, weight=\"bold\")\n",
    "    line.set_xlabel(column.title())\n",
    "    line.set_ylabel('Charged Off %')\n",
    "\n",
    "    # Bar plot for Number of Loans\n",
    "    loans_plot = charged_off_data.iloc[:, 0:3]\n",
    "    ax2 = loans_plot.plot(kind='bar', ax=ax1, rot=1, secondary_y=True, stacked=stacked)\n",
    "    ax2.set_ylabel('Number of Loans')\n",
    "    \n",
    "    plt.show()\n"
   ]
  },
  {
   "cell_type": "code",
   "execution_count": 25,
   "id": "fa3c7587",
   "metadata": {},
   "outputs": [],
   "source": [
    "def bucket_data(column, thresholds, labels) -> str:\n",
    "    \"\"\"\n",
    "    Bucket data based on specified thresholds and labels.\n",
    "\n",
    "    Parameters:\n",
    "        column (float): The numeric value to be bucketed.\n",
    "        thresholds (list of float): The list of threshold values for bucketing.\n",
    "        labels (list of str): The list of labels corresponding to the buckets.\n",
    "\n",
    "    Returns:\n",
    "        str: The bucket label for the given column value.\n",
    "    \"\"\"\n",
    "    for i, threshold in enumerate(thresholds):\n",
    "        if column < threshold:\n",
    "            return labels[i]\n",
    "    return labels[-1]\n"
   ]
  },
  {
   "cell_type": "code",
   "execution_count": 26,
   "id": "46724d66",
   "metadata": {},
   "outputs": [],
   "source": [
    "def charged_off_percent(df, column, duration):\n",
    "    charged_off = df[(df[column] == duration) & (df['loan_status'] == 'Charged Off')][column].value_counts()[duration]\n",
    "    total = df[df[column] == duration][column].value_counts()[duration]\n",
    "    return round((charged_off / total) * 100, 2)"
   ]
  },
  {
   "cell_type": "markdown",
   "id": "8d210606",
   "metadata": {},
   "source": [
    "#### Sorting the dataframe columns in ascending order to address all columns alphabetically"
   ]
  },
  {
   "cell_type": "code",
   "execution_count": null,
   "id": "d675cacb",
   "metadata": {},
   "outputs": [],
   "source": [
    "loan_df = loan_df.reindex(sorted(loan_df.columns), axis=1)\n",
    "loan_df"
   ]
  },
  {
   "cell_type": "markdown",
   "id": "9d9dd493",
   "metadata": {},
   "source": [
    "### 2.7. Data Conversion"
   ]
  },
  {
   "cell_type": "markdown",
   "id": "db692080",
   "metadata": {},
   "source": [
    "###### Convert debt to income (dti), funded amount (funded_amnt), funded amount investor (funded_amnt_inv) and loan amount (loan_amnt) to float to match the data"
   ]
  },
  {
   "cell_type": "code",
   "execution_count": 28,
   "id": "9b1469a2",
   "metadata": {},
   "outputs": [],
   "source": [
    "loan_df = loan_df.astype({\n",
    "    'dti': 'float',\n",
    "    'funded_amnt' : 'float',\n",
    "    'funded_amnt_inv' : 'float',\n",
    "    'loan_amnt' : 'float'\n",
    "})"
   ]
  },
  {
   "cell_type": "markdown",
   "id": "662c9d81",
   "metadata": {},
   "source": [
    "###### Convert loan term (term) to int and interest rate (int_rate) to float to match the data"
   ]
  },
  {
   "cell_type": "code",
   "execution_count": 29,
   "id": "6ab37435",
   "metadata": {},
   "outputs": [],
   "source": [
    "# Convert term column to int type\n",
    "loan_df['term'] = loan_df['term'].apply(lambda x: int(x.replace('months', '').strip()))"
   ]
  },
  {
   "cell_type": "code",
   "execution_count": 30,
   "id": "ea9a8678",
   "metadata": {},
   "outputs": [],
   "source": [
    "# Convert int_rate column to float type\n",
    "loan_df['int_rate'] = loan_df['int_rate'].apply(lambda x: float(x.replace('%', '').strip()))"
   ]
  },
  {
   "cell_type": "code",
   "execution_count": 31,
   "id": "b2177331",
   "metadata": {},
   "outputs": [],
   "source": [
    "# Rounding of the values of below columns to two decimal places\n",
    "for col in ['loan_amnt', 'funded_amnt', 'funded_amnt_inv', 'int_rate', 'dti']:\n",
    "    loan_df[col] = loan_df[col].apply(lambda x: round(x, 2))"
   ]
  },
  {
   "cell_type": "markdown",
   "id": "ce9538c6",
   "metadata": {},
   "source": [
    "###### Convert loan date (issue_d) to DateTime (format: yyyy-mm-dd)"
   ]
  },
  {
   "cell_type": "code",
   "execution_count": 32,
   "id": "9496ea68",
   "metadata": {},
   "outputs": [],
   "source": [
    "# Converting the column issue_d from string to DateTime\n",
    "loan_df['issue_d'] = pd.to_datetime(loan_df['issue_d'], format = '%b-%y')"
   ]
  },
  {
   "cell_type": "markdown",
   "id": "d72e05b7",
   "metadata": {},
   "source": [
    "### 2.8. Outlier Treatment"
   ]
  },
  {
   "cell_type": "code",
   "execution_count": null,
   "id": "aac4fb0f",
   "metadata": {},
   "outputs": [],
   "source": [
    "loan_df.annual_inc.value_counts().sort_index(ascending=False)"
   ]
  },
  {
   "cell_type": "markdown",
   "id": "ac59c1f0",
   "metadata": {},
   "source": [
    "###### Annual income has outliers. Calculating the inter-quartile range (IQR) and filtering out the outliers outside of lower and upper bound"
   ]
  },
  {
   "cell_type": "code",
   "execution_count": null,
   "id": "c5d8c1ce",
   "metadata": {},
   "outputs": [],
   "source": [
    "# Calculate the lower bound and upper bound\n",
    "is_annual_inc_lb = calculate_boxplot_stats(loan_df, 'annual_inc')['lower_bound']\n",
    "is_annual_inc_ub = calculate_boxplot_stats(loan_df, 'annual_inc')['upper_bound']\n",
    "is_annual_inc_lt = loan_df.annual_inc > is_annual_inc_lb\n",
    "is_annual_inc_gt = loan_df.annual_inc < is_annual_inc_ub\n",
    "\n",
    "req_income = is_annual_inc_lt & is_annual_inc_gt\n",
    "\n",
    "# Filter the rows with required annual income range between lower and upper bound\n",
    "loan_df = loan_df[req_income]\n",
    "\n",
    "# Show boxplot\n",
    "create_boxplot(loan_df, 'annual_inc', title='Annual Income')"
   ]
  },
  {
   "cell_type": "code",
   "execution_count": null,
   "id": "10f337e4",
   "metadata": {
    "scrolled": false
   },
   "outputs": [],
   "source": [
    "for col in ['loan_amnt', 'funded_amnt', 'funded_amnt_inv', 'int_rate', 'installment', 'dti']:\n",
    "    create_boxplot(loan_df, col, horizontal=False)"
   ]
  },
  {
   "cell_type": "markdown",
   "id": "9eaa2c92",
   "metadata": {},
   "source": [
    "- The annual income of most of the loan applicants is between 40, 000 - 75, 000 USD\n",
    "- The loan amount of most of the loan applicants is between 5, 000 - 15, 000 \n",
    "- The funded amount of most of the loan applicants is between 5, 000 - 14, 000 USD\n",
    "- The funded amount by investor for most of the loan applicants is between 5, 000 - 14, 000 USD\n",
    "- The interest rate on the loan is between 9% - 14%\n",
    "- The monthly installment amount on the loan is between 160 - 440\n",
    "- The debt to income ration is between 8 - 18"
   ]
  },
  {
   "cell_type": "markdown",
   "id": "5988fb42",
   "metadata": {},
   "source": [
    "### 2.9. Imputing values in Columns"
   ]
  },
  {
   "cell_type": "code",
   "execution_count": null,
   "id": "6a1801f4",
   "metadata": {},
   "outputs": [],
   "source": [
    "loan_df.emp_length.isna().sum()"
   ]
  },
  {
   "cell_type": "code",
   "execution_count": null,
   "id": "e8f7db29",
   "metadata": {},
   "outputs": [],
   "source": [
    "# Annual income of loan applicants whose employment length is missing\n",
    "loan_df[loan_df.emp_length.isna()]['annual_inc'].describe()"
   ]
  },
  {
   "cell_type": "code",
   "execution_count": null,
   "id": "f14f9c01",
   "metadata": {},
   "outputs": [],
   "source": [
    "# Most frequent Annual income of loan applicants whose employment length is missing\n",
    "loan_df[loan_df.emp_length.isna()]['annual_inc'].mode()"
   ]
  },
  {
   "cell_type": "code",
   "execution_count": null,
   "id": "42414be3",
   "metadata": {},
   "outputs": [],
   "source": [
    "# Find the most frequent value of employment length\n",
    "loan_df.emp_length.value_counts()"
   ]
  },
  {
   "cell_type": "code",
   "execution_count": null,
   "id": "1e02fdfa",
   "metadata": {},
   "outputs": [],
   "source": [
    "loan_df.emp_length.mode()"
   ]
  },
  {
   "cell_type": "markdown",
   "id": "c945f556",
   "metadata": {},
   "source": [
    "###### Employment length has 1015 missing values, which means either they are not employed or self-employed (business owners). Considering they have a decent average annual income, we have assumed that these are business owners and we have added their employment duration with the mode value of emp_length which is 10+ years"
   ]
  },
  {
   "cell_type": "code",
   "execution_count": 40,
   "id": "e2084f66",
   "metadata": {},
   "outputs": [],
   "source": [
    "loan_df.emp_length.fillna(loan_df.emp_length.mode()[0], inplace = True)"
   ]
  },
  {
   "cell_type": "code",
   "execution_count": null,
   "id": "1ebfca0f",
   "metadata": {},
   "outputs": [],
   "source": [
    "# Verify if the imputation of values is successful\n",
    "loan_df.emp_length.isna().sum()"
   ]
  },
  {
   "cell_type": "markdown",
   "id": "30a87cee",
   "metadata": {},
   "source": [
    "###### Mapping employment length with the respective number of years in int"
   ]
  },
  {
   "cell_type": "code",
   "execution_count": 42,
   "id": "424f26bc",
   "metadata": {},
   "outputs": [],
   "source": [
    "emp_length_mapping: dict = {\n",
    "    '< 1 year': 0, '1 year': 1, '2 years': 2, '3 years': 3,\n",
    "    '4 years': 4, '5 years': 5, '6 years': 6, '7 years': 7,\n",
    "    '8 years': 8, '9 years': 9, '10+ years': 10\n",
    "}\n",
    "\n",
    "# Use the map function to replace values in the 'emp_length' column\n",
    "loan_df['emp_length'] = loan_df['emp_length'].map(emp_length_mapping)"
   ]
  },
  {
   "cell_type": "code",
   "execution_count": null,
   "id": "42f1b392",
   "metadata": {},
   "outputs": [],
   "source": [
    "loan_df.home_ownership.value_counts()"
   ]
  },
  {
   "cell_type": "markdown",
   "id": "ad9d8c70",
   "metadata": {},
   "source": [
    "###### Imputing NONE values as OTHER for home_ownership"
   ]
  },
  {
   "cell_type": "code",
   "execution_count": 44,
   "id": "0dea3572",
   "metadata": {},
   "outputs": [],
   "source": [
    "loan_df['home_ownership'].replace('NONE', 'OTHER', inplace = True)"
   ]
  },
  {
   "cell_type": "code",
   "execution_count": null,
   "id": "77df3b39",
   "metadata": {},
   "outputs": [],
   "source": [
    "loan_df.home_ownership.value_counts()"
   ]
  },
  {
   "cell_type": "code",
   "execution_count": null,
   "id": "a35c4371",
   "metadata": {},
   "outputs": [],
   "source": [
    "loan_df.verification_status.value_counts()"
   ]
  },
  {
   "cell_type": "markdown",
   "id": "0408d05b",
   "metadata": {},
   "source": [
    "###### Replacing the 'Source Verified' values as 'Verified' since both values mean the same thing i.e. the loan applicant has some source of income which is verified"
   ]
  },
  {
   "cell_type": "code",
   "execution_count": 47,
   "id": "e637aa24",
   "metadata": {},
   "outputs": [],
   "source": [
    "loan_df['verification_status'].replace('Source Verified', 'Verified', inplace = True)"
   ]
  },
  {
   "cell_type": "code",
   "execution_count": null,
   "id": "0fc0e767",
   "metadata": {},
   "outputs": [],
   "source": [
    "loan_df.verification_status.value_counts()"
   ]
  },
  {
   "cell_type": "code",
   "execution_count": null,
   "id": "3128c061",
   "metadata": {},
   "outputs": [],
   "source": [
    "loan_df.pub_rec_bankruptcies.isna().sum()"
   ]
  },
  {
   "cell_type": "code",
   "execution_count": null,
   "id": "76b3f455",
   "metadata": {
    "scrolled": true
   },
   "outputs": [],
   "source": [
    "loan_df[loan_df.pub_rec_bankruptcies.isna()]"
   ]
  },
  {
   "cell_type": "markdown",
   "id": "da26fc4c",
   "metadata": {},
   "source": [
    "#### There are multiple null values for pub_rec_bankruptcies. Dropping those rows as they cannot be imputed."
   ]
  },
  {
   "cell_type": "code",
   "execution_count": 51,
   "id": "db89a9e0",
   "metadata": {},
   "outputs": [],
   "source": [
    "loan_df = loan_df[loan_df.pub_rec_bankruptcies.notna()]"
   ]
  },
  {
   "cell_type": "code",
   "execution_count": null,
   "id": "717bfdce",
   "metadata": {},
   "outputs": [],
   "source": [
    "# Verify if the dataset has no longer null values\n",
    "loan_df.isna().sum()"
   ]
  },
  {
   "cell_type": "markdown",
   "id": "98db24cd",
   "metadata": {},
   "source": [
    "#### Cleaned up loan dataset"
   ]
  },
  {
   "cell_type": "code",
   "execution_count": null,
   "id": "f8bd5ed9",
   "metadata": {},
   "outputs": [],
   "source": [
    "loan_df"
   ]
  },
  {
   "cell_type": "markdown",
   "id": "44a00064",
   "metadata": {},
   "source": [
    "## 3. Data Analysis\n",
    "1. Derived Columns\n",
    "2. Univariate Analysis (including Segmented Univariate Analysis)\n",
    "3. Bivariate Analysis"
   ]
  },
  {
   "cell_type": "markdown",
   "id": "490c3bc9",
   "metadata": {},
   "source": [
    "### 3.1. Derived Columns\n",
    "1. Derived metrics for Month (issue_m), Year (issue_y) and Quarter (issue_q) from column \"issue_d\"\n",
    "2. Create new column loan_paid with 'Yes' and 'No' values based on loan_status column where 'Yes' = \"Fully Paid\" and 'No' = \"Charged off\"\n",
    "3. Creating different buckets for loan amount (loan_amount_bucket), interest rate (interest_rate_bucket), annual income (annual_income_bucket)"
   ]
  },
  {
   "cell_type": "markdown",
   "id": "3a87fe71",
   "metadata": {},
   "source": [
    "#### 3.1.1. Derived metrics for Month (issue_m), Year (issue_y) and Quarter (issue_q) from column \"issue_d\""
   ]
  },
  {
   "cell_type": "code",
   "execution_count": 54,
   "id": "e15e7165",
   "metadata": {},
   "outputs": [],
   "source": [
    "# Extracting Month and Year for analysis from issue_d\n",
    "loan_df['issue_m'] = pd.DatetimeIndex(loan_df['issue_d']).month\n",
    "loan_df['issue_y'] = pd.DatetimeIndex(loan_df['issue_d']).year"
   ]
  },
  {
   "cell_type": "code",
   "execution_count": 55,
   "id": "e31f9ced",
   "metadata": {},
   "outputs": [],
   "source": [
    "# Categorising Months into quaterly buckets\n",
    "threshold_months = [4, 7, 9]\n",
    "quarter_labels = ['Q1', 'Q2', 'Q3', 'Q4']\n",
    "loan_df['issue_q'] = loan_df['issue_m'].apply(bucket_data, args=(threshold_months, quarter_labels))"
   ]
  },
  {
   "cell_type": "code",
   "execution_count": null,
   "id": "0b343d53",
   "metadata": {},
   "outputs": [],
   "source": [
    "loan_df[['issue_d', 'issue_m', 'issue_q']]"
   ]
  },
  {
   "cell_type": "markdown",
   "id": "d6d5de1d",
   "metadata": {},
   "source": [
    "#### 3.1.2. Create new column loan_paid with 'Yes' and 'No' values based on loan_status column where 'Yes' = \"Fully Paid\" and 'No' = \"Charged off\""
   ]
  },
  {
   "cell_type": "code",
   "execution_count": 57,
   "id": "c54eb5a2",
   "metadata": {},
   "outputs": [],
   "source": [
    "loan_status_map = {'Charged Off': 'No', 'Fully Paid': 'Yes' }\n",
    "loan_df['loan_paid'] = loan_df['loan_status'].map(loan_status_map)"
   ]
  },
  {
   "cell_type": "markdown",
   "id": "96b4139b",
   "metadata": {},
   "source": [
    "#### 3.1.3. Creating different buckets for loan amount (loan_amount_bucket), interest rate (interest_rate_bucket), annual income (annual_income_bucket), funded amount bucket (funded_amnt_bucket), Debt to Income Bucket (dti_bucket)"
   ]
  },
  {
   "cell_type": "code",
   "execution_count": 58,
   "id": "acc30dd0",
   "metadata": {},
   "outputs": [],
   "source": [
    "# Categorising Loan Amount\n",
    "loan_amount_thresholds = [5000, 10000, 15000]\n",
    "loan_amount_labels = ['0 - 5K', '5K - 10K', '10K - 15K', '15K - above']\n",
    "loan_df['loan_amnt_bucket'] = loan_df['loan_amnt'].apply(bucket_data, args=(loan_amount_thresholds, loan_amount_labels))"
   ]
  },
  {
   "cell_type": "code",
   "execution_count": null,
   "id": "ecc66646",
   "metadata": {},
   "outputs": [],
   "source": [
    "loan_df[['loan_amnt', 'loan_amnt_bucket']]"
   ]
  },
  {
   "cell_type": "code",
   "execution_count": 60,
   "id": "e8618b83",
   "metadata": {},
   "outputs": [],
   "source": [
    "# Bucketting for int_rate\n",
    "int_rate_bins = [5, 9, 13, 17, 21]\n",
    "int_rate_labels = ['0%-5%', '5%-9%','9%-13%','13%-17%','17%-21%','21%-25%']\n",
    "loan_df['int_rate_bucket'] = loan_df['int_rate'].apply(bucket_data, args=((int_rate_bins, int_rate_labels)))"
   ]
  },
  {
   "cell_type": "code",
   "execution_count": null,
   "id": "3c737b18",
   "metadata": {
    "scrolled": false
   },
   "outputs": [],
   "source": [
    "loan_df[['int_rate', 'int_rate_bucket']]"
   ]
  },
  {
   "cell_type": "code",
   "execution_count": 62,
   "id": "01a88b8f",
   "metadata": {},
   "outputs": [],
   "source": [
    "# Bucketting Annual Income\n",
    "annual_inc_thresholds = [40000, 50000, 60000, 70000, 80000]\n",
    "annual_inc_labels = ['0 - 40k', '40k - 50k', '50k - 60k', '60k - 70k', '70k - 80k', '80k - above']\n",
    "loan_df['annual_inc_bucket'] = loan_df['annual_inc'].apply(bucket_data, args=(annual_inc_thresholds, annual_inc_labels))"
   ]
  },
  {
   "cell_type": "code",
   "execution_count": null,
   "id": "e3d7a1ce",
   "metadata": {
    "scrolled": false
   },
   "outputs": [],
   "source": [
    "loan_df[['annual_inc', 'annual_inc_bucket']]"
   ]
  },
  {
   "cell_type": "code",
   "execution_count": 64,
   "id": "cbfee9b8",
   "metadata": {},
   "outputs": [],
   "source": [
    "# Bucketting Funded Amount\n",
    "funded_amnt_thresholds = [5000, 10000, 15000]\n",
    "funded_amnt_labels = ['0 - 5k', '5k - 10k', '10k - 15k', '15k - above']\n",
    "loan_df['funded_amnt_bucket'] = loan_df['funded_amnt'].apply(bucket_data, args=(funded_amnt_thresholds, funded_amnt_labels))"
   ]
  },
  {
   "cell_type": "code",
   "execution_count": null,
   "id": "4f869fd9",
   "metadata": {
    "scrolled": false
   },
   "outputs": [],
   "source": [
    "loan_df[['funded_amnt', 'funded_amnt_bucket']]"
   ]
  },
  {
   "cell_type": "code",
   "execution_count": 66,
   "id": "167b078d",
   "metadata": {},
   "outputs": [],
   "source": [
    "# Bucketting DTI\n",
    "dti_thresholds = [8, 12, 16, 20]\n",
    "dti_labels = ['Very Low', 'Low', 'Medium', 'High', 'Very High']\n",
    "loan_df['dti_bucket'] = loan_df['dti'].apply(bucket_data, args=(dti_thresholds, dti_labels))"
   ]
  },
  {
   "cell_type": "code",
   "execution_count": null,
   "id": "993791f7",
   "metadata": {
    "scrolled": false
   },
   "outputs": [],
   "source": [
    "loan_df[['dti', 'dti_bucket']]"
   ]
  },
  {
   "cell_type": "markdown",
   "id": "5ac4c30c",
   "metadata": {},
   "source": [
    "### 3.2 Univariate Analysis\n",
    "\n",
    "Following fields will be checked as part of univariate analysis\n",
    "\n",
    "#### 1. Categorical variables\n",
    "    1. Ordered categorical data\n",
    "        1. Grade (grade)\n",
    "        2. Sub grade (sub_grade)\n",
    "        3. Term (36 / 60 months) (term)\n",
    "        4. Employment length (emp_length)\n",
    "        5. Issue year (issue_y)\n",
    "        6. Issue month (issue_m)\n",
    "        7. Issue quarter (issue_q)\n",
    "\n",
    "    2. Unordered categorical data\n",
    "        1. Address State (addr_state)\n",
    "        2. Loan purpose (purpose)\n",
    "        3. Home Ownership (home_ownership)\n",
    "        4. Loan status (loan_status)\n",
    "        5. Loan paid (loan_paid)\n",
    "    \n",
    "#### 2. Quantitative variables\n",
    "    1. Interest rate bucket (int_rate_bucket)\n",
    "    2. Annual income bucket (annual_inc_bucket)\n",
    "    3. Loan amount bucket (loan_amnt_bucket)\n",
    "    4. Funded amount bucket (funded_amnt_bucket)\n",
    "    5. Debt to Income Ratio (DTI) bucket (dti_bucket)\n",
    "    6. Monthly Installment (installment)\n",
    "    "
   ]
  },
  {
   "cell_type": "markdown",
   "id": "6d697fad",
   "metadata": {},
   "source": [
    "#### 3.2.1.1. Ordered Categorical Variables"
   ]
  },
  {
   "cell_type": "code",
   "execution_count": null,
   "id": "5f3a1b3c",
   "metadata": {
    "scrolled": false
   },
   "outputs": [],
   "source": [
    "for cat_var in ['grade', 'sub_grade', 'term', 'emp_length', 'issue_y', 'issue_m', 'issue_q']:\n",
    "    plot_bar_graph(\n",
    "        loan_df,\n",
    "        x_column = cat_var,\n",
    "        y_column = cat_var,\n",
    "        title = f'Bar Plot of {cat_var}',\n",
    "        xlabel = cat_var,\n",
    "        ylabel=f'Frequency of {cat_var}',\n",
    "        figsize=(8, 12),\n",
    "        x_tick_rotation=90,\n",
    "        freq_rotation=90,\n",
    "        filter_column='loan_status',\n",
    "        filter_value='Charged Off'\n",
    "    )"
   ]
  },
  {
   "cell_type": "markdown",
   "id": "e112e8ee",
   "metadata": {},
   "source": [
    "#### 3.2.1.2. Unordered Categorical Variables"
   ]
  },
  {
   "cell_type": "code",
   "execution_count": null,
   "id": "0bb3c5a5",
   "metadata": {
    "scrolled": false
   },
   "outputs": [],
   "source": [
    "for un_cat_var in ['addr_state', 'purpose', 'home_ownership', 'loan_status', 'loan_paid']:\n",
    "    plot_bar_graph(\n",
    "        loan_df,\n",
    "        x_column = un_cat_var,\n",
    "        y_column = un_cat_var,\n",
    "        title = f'Bar Plot of {un_cat_var}',\n",
    "        xlabel = cat_var,\n",
    "        ylabel=f'Frequency of {un_cat_var}',\n",
    "        figsize=(12, 12),\n",
    "        x_tick_rotation=90,\n",
    "        freq_rotation=90,\n",
    "        filter_column='loan_status',\n",
    "        filter_value='Charged Off'\n",
    "    )"
   ]
  },
  {
   "cell_type": "markdown",
   "id": "12e2e702",
   "metadata": {},
   "source": [
    "#### 3.2.2. Quantitative variables"
   ]
  },
  {
   "cell_type": "code",
   "execution_count": null,
   "id": "fa251c07",
   "metadata": {
    "scrolled": false
   },
   "outputs": [],
   "source": [
    "for quant_var in ['annual_inc_bucket', 'int_rate_bucket', 'loan_amnt_bucket', 'funded_amnt_bucket', 'dti_bucket']:\n",
    "    plot_bar_graph(\n",
    "        loan_df,\n",
    "        x_column = quant_var,\n",
    "        y_column = quant_var,\n",
    "        title = f'Bar Plot of {quant_var}',\n",
    "        xlabel = cat_var,\n",
    "        ylabel=f'Frequency of {quant_var}',\n",
    "        figsize=(12, 12),\n",
    "        x_tick_rotation=90,\n",
    "        freq_rotation=90,\n",
    "        filter_column='loan_status',\n",
    "        filter_value='Charged Off'\n",
    "    )"
   ]
  },
  {
   "cell_type": "code",
   "execution_count": 71,
   "id": "c3979f94",
   "metadata": {},
   "outputs": [],
   "source": [
    "installments_df = loan_df[loan_df.loan_paid == 'No']"
   ]
  },
  {
   "cell_type": "code",
   "execution_count": null,
   "id": "7db05aee",
   "metadata": {},
   "outputs": [],
   "source": [
    "plot_histogram(installments_df, column='installment', bins=50, title='Installments', xlabel='Installment', ylabel='Frequency')"
   ]
  },
  {
   "cell_type": "markdown",
   "id": "bdda4d38",
   "metadata": {},
   "source": [
    "\n",
    "\n",
    "### Observations and Inferences from Univariate Analysis\n",
    "\n",
    "#### Ordered Categorical Variables\n",
    "\n",
    "- Grade B had the highest number of \"Charged off\" loan applicants, with a total of 1,352 applicants, indicating that applicants with this credit grade faced challenges in repaying their loans.\n",
    "\n",
    "- Short-term loans with a duration of 36 months were the most popular among \"Charged off\" applicants, with 3,006 applications. This suggests that a significant portion of applicants who experienced loan default chose shorter repayment terms.\n",
    "\n",
    "- Applicants who had been employed for more than 10 years accounted for the highest number of \"Charged off\" loans, totaling 1,474. This indicates that long-term employment history did not necessarily guarantee successful loan repayment.\n",
    "\n",
    "- The year 2011 recorded the highest number of \"Charged off\" loan applications, totalling 3,152, signaling a positive trend in the number of applicants facing loan defaults over the years. This could be indicative of economic or financial challenges during that year.\n",
    "\n",
    "- \"Charged off\" loans were predominantly taken during the 4th quarter, with 2,284 applications, primarily in December. This peak in loan applications during the holiday season might suggest that financial pressures during the holidays contributed to loan defaults.\n",
    "\n",
    "#### Unordered Categorical Variables\n",
    "\n",
    "- California had the highest number of \"Charged off\" loan applicants, with 1,055 applicants. For such applicants, the lending company needs to implement stricter eligibility criteria or credit assessments due to a higher number of \"Charged off\" applicants from this state.\n",
    "\n",
    "- Debt consolidation was the primary loan purpose for most \"Charged off\" loan applicants, with 2,633 applicants selecting this option. The lending company needs to exercise caution when approving loans for debt consolidation purposes, as it was the primary loan purpose for many \"Charged off\" applicants.\n",
    "\n",
    "- The majority of \"Charged off\" loan participants, totaling 2,715 individuals, lived in rented houses. The lending company must assess the financial stability of applicants living in rented houses, as they may be more susceptible to economic fluctuations.\n",
    "\n",
    "- A significant number of loan participants, specifically 5,317 individuals, were loan defaulters, unable to clear their loans. The lending company should enhance risk assessment practices, including stricter credit checks and lower loan-to-value ratios, for applicants with a history of loan defaults. They should offer financial education and support services to help borrowers manage their finances and improve loan repayment outcomes.\n",
    "\n",
    "#### Quantitative variables\n",
    "\n",
    "- 1,561 loan applicants who charged off had annual salaries less than 40,000 USD. The lending company should exercise caution when lending to individuals with low annual salaries. They should implement rigorous income verification and assess repayment capacity more thoroughly for applicants in this income bracket.\n",
    "- Among loan participants who charged off (2,025), a considerable portion belonged to the interest rate bucket of 13%-17%. To reduce the risk of default, the lending company should consider offering loans at lower interest rates when possible.\n",
    "- 1,695 loan participants who charged off received loan amounts of 15,000 USD and above. The lending company should evaluate applicants seeking higher loan amounts carefully. They should ensure the applicants must have a strong credit history and repayment capability to handle larger loans.\n",
    "- 1,608 loan participants who charged off received funded amounts of 15,000 USD and above. The lending company should ensure that the funded amounts align with the borrower's financial capacity. They should conduct thorough credit assessments for larger loan requests.\n",
    "- Among loan participants who charged off, 1,178 loan applicants had very high debt-to-income ratios. The lending company should implement strict debt-to-income ratio requirements to prevent lending to individuals with unsustainable levels of debt relative to their income.\n",
    "- Among loan participants who charged off, it's observed that the majority of them had monthly installment amounts falling within the range of 160-440 USD. The lending company should closely monitor and assess applicants with similar installment amounts to mitigate the risk of loan defaults."
   ]
  },
  {
   "cell_type": "markdown",
   "id": "334561e4",
   "metadata": {},
   "source": [
    "### 3.3. Bivariate Analysis\n",
    "\n",
    "Following fields will be analysed as part of bivariate analysis against Loan Status (`loan_status`) column\n",
    "\n",
    "#### 1. Categorical variables\n",
    "    1. Ordered categorical data\n",
    "        1. Grade (grade)\n",
    "        2. Sub grade (sub_grade)\n",
    "        3. Term (36 / 60 months) (term)\n",
    "        4. Employment length (emp_length)\n",
    "        5. Issue year (issue_y)\n",
    "        6. Issue month (issue_m)\n",
    "        7. Issue quarter (issue_q)\n",
    "\n",
    "    2. Unordered categorical data\n",
    "        1. Loan purpose (purpose)\n",
    "        2. Home Ownership (home_ownership)\n",
    "        3. Verification Status (verification_status)\n",
    "        4. Address State (addr_state)\n",
    "        \n",
    "#### 2. Quantitative variables\n",
    "    1. Int Rate Bucket (int_rate_bucket)\n",
    "    2. Debt to Income Bucket (dti_bucket)\n",
    "    3. Annual Income Bucket (annual_inc_bucket)\n",
    "    4. Funded Amount Bucket (funded_amnt_bucket)\n",
    "    5. Loan Amount Bucket (loan_amnt_bucket)\n"
   ]
  },
  {
   "cell_type": "markdown",
   "id": "451ecf98",
   "metadata": {
    "scrolled": true
   },
   "source": [
    "### 3.3.1. Bivariate Analysis of Ordered Categorical Variables"
   ]
  },
  {
   "cell_type": "markdown",
   "id": "4cc9fdfb",
   "metadata": {},
   "source": [
    "#### 3.3.1.1.1. Grade vs. Loan Status"
   ]
  },
  {
   "cell_type": "code",
   "execution_count": null,
   "id": "b80d68f5",
   "metadata": {},
   "outputs": [],
   "source": [
    "countplot_graph({\n",
    "    'data': loan_df,\n",
    "    'x': 'grade',\n",
    "    'figsize': (12, 6),\n",
    "    'hue': 'loan_status',\n",
    "    'xlabel': 'Grade',\n",
    "    'ylabel': 'Loan Status',\n",
    "    'title': 'Grade vs Loan Status',\n",
    "    'palette': 'PRGn'\n",
    "})"
   ]
  },
  {
   "cell_type": "markdown",
   "id": "dd027d47",
   "metadata": {},
   "source": [
    "###### The loan applicants belonging to Grades B, C and D contribute to most number of \"Charged Off\" loans"
   ]
  },
  {
   "cell_type": "markdown",
   "id": "21673a6c",
   "metadata": {},
   "source": [
    "#### 3.3.1.1.2. Sub Grade vs. Loan Status"
   ]
  },
  {
   "cell_type": "code",
   "execution_count": null,
   "id": "a122faa7",
   "metadata": {},
   "outputs": [],
   "source": [
    "countplot_graph({\n",
    "    'data': loan_df,\n",
    "    'x': 'sub_grade',\n",
    "    'figsize': (12, 6),\n",
    "    'hue': 'loan_status',\n",
    "    'xlabel': 'Sub Grade',\n",
    "    'ylabel': 'Loan Count',\n",
    "    'title': 'Sub Grade vs Loan Status',\n",
    "    'palette': 'RdGy'\n",
    "}, annot = False)"
   ]
  },
  {
   "cell_type": "markdown",
   "id": "f5c9fca4",
   "metadata": {},
   "source": [
    "###### Loan applicants belonging to Sub Grades B3, B4, and B5 are likely to Charge off"
   ]
  },
  {
   "cell_type": "markdown",
   "id": "b2a89494",
   "metadata": {},
   "source": [
    "#### 3.3.1.1.3. Term vs. Loan Status"
   ]
  },
  {
   "cell_type": "code",
   "execution_count": null,
   "id": "ff6f8132",
   "metadata": {},
   "outputs": [],
   "source": [
    "countplot_graph({\n",
    "    'data': loan_df,\n",
    "    'x': 'term',\n",
    "    'figsize': (12, 6),\n",
    "    'hue': 'loan_status',\n",
    "    'xlabel': 'Term',\n",
    "    'ylabel': 'Loan Count',\n",
    "    'title': 'Term vs Loan Status',\n",
    "    'palette': 'pastel'\n",
    "})"
   ]
  },
  {
   "cell_type": "code",
   "execution_count": null,
   "id": "c88ec401",
   "metadata": {},
   "outputs": [],
   "source": [
    "charged_off_percent_36_m = charged_off_percent(loan_df, 'term', 36)\n",
    "charged_off_percent_60_m = charged_off_percent(loan_df, 'term', 60)\n",
    "print(f'Charged off pecentage for people taking loan for 60 months - {charged_off_percent_60_m}%')\n",
    "print(f'Charged off pecentage for people taking loan for 36 months - {charged_off_percent_36_m}%')"
   ]
  },
  {
   "cell_type": "markdown",
   "id": "eca76e43",
   "metadata": {},
   "source": [
    "##### Loan applicants applying loan for 60 months are likely to default more than the one taking loan for 36 months"
   ]
  },
  {
   "cell_type": "markdown",
   "id": "65f6ae48",
   "metadata": {},
   "source": [
    "#### 3.3.1.1.4. Employment Length vs. Loan Status"
   ]
  },
  {
   "cell_type": "code",
   "execution_count": null,
   "id": "88208065",
   "metadata": {},
   "outputs": [],
   "source": [
    "countplot_graph({\n",
    "    'data': loan_df,\n",
    "    'x': 'emp_length',\n",
    "    'figsize': (12, 6),\n",
    "    'hue': 'loan_status',\n",
    "    'xlabel': 'Employment length (in years)',\n",
    "    'ylabel': 'Loan Count',\n",
    "    'title': 'Employment Length vs Loan Status',\n",
    "    'palette': \"Reds\"\n",
    "})"
   ]
  },
  {
   "cell_type": "markdown",
   "id": "825ea0aa",
   "metadata": {},
   "source": [
    "###### Most number of loan applicants are 10 or more years of experience. They also are the ones who are most likely to default"
   ]
  },
  {
   "cell_type": "markdown",
   "id": "8af2b765",
   "metadata": {},
   "source": [
    "#### 3.3.1.1.5. Loan Year vs. Loan Status"
   ]
  },
  {
   "cell_type": "code",
   "execution_count": null,
   "id": "f82baf8b",
   "metadata": {},
   "outputs": [],
   "source": [
    "countplot_graph({\n",
    "    'data': loan_df,\n",
    "    'x': 'issue_y',\n",
    "    'figsize': (12, 6),\n",
    "    'hue': 'loan_status',\n",
    "    'xlabel': 'Year',\n",
    "    'ylabel': 'Loan Count',\n",
    "    'title': 'Year vs Loan Status',\n",
    "    'palette': \"BrBG\"\n",
    "})"
   ]
  },
  {
   "cell_type": "markdown",
   "id": "cf36a5eb",
   "metadata": {},
   "source": [
    "###### The loan applicants have increased steadily from 2007 to 2011 showcasing positive trend in the upcoming years."
   ]
  },
  {
   "cell_type": "markdown",
   "id": "04ede127",
   "metadata": {},
   "source": [
    "#### 3.3.1.1.6. Loan Month vs. Loan Status"
   ]
  },
  {
   "cell_type": "code",
   "execution_count": null,
   "id": "4d83699e",
   "metadata": {},
   "outputs": [],
   "source": [
    "countplot_graph({\n",
    "    'data': loan_df,\n",
    "    'x': 'issue_m',\n",
    "    'figsize': (12, 6),\n",
    "    'hue': 'loan_status',\n",
    "    'xlabel': 'Month',\n",
    "    'ylabel': 'Loan Count',\n",
    "    'title': 'Month vs Loan Status',\n",
    "    'palette': \"Paired\"\n",
    "})"
   ]
  },
  {
   "cell_type": "markdown",
   "id": "3ae4fe92",
   "metadata": {},
   "source": [
    "###### The month of December is the most preferred month of taking loans. This may be due to the holiday season."
   ]
  },
  {
   "cell_type": "markdown",
   "id": "815a15da",
   "metadata": {},
   "source": [
    "#### 3.3.1.1.7. Loan Quarter vs. Loan Status"
   ]
  },
  {
   "cell_type": "code",
   "execution_count": null,
   "id": "4af2e3ed",
   "metadata": {},
   "outputs": [],
   "source": [
    "countplot_graph({\n",
    "    'data': loan_df,\n",
    "    'x': 'issue_q',\n",
    "    'figsize': (12, 6),\n",
    "    'hue': 'loan_status',\n",
    "    'xlabel': 'Quarter',\n",
    "    'ylabel': 'Loan Count',\n",
    "    'title': 'Quarter vs Loan Status',\n",
    "    'palette': \"PiYG\"\n",
    "})"
   ]
  },
  {
   "cell_type": "markdown",
   "id": "89547613",
   "metadata": {},
   "source": [
    "###### Q4 is the most preferred quarter for taking loans. This is mainly due to the holiday season coming up."
   ]
  },
  {
   "cell_type": "markdown",
   "id": "3291bc23",
   "metadata": {},
   "source": [
    "### 3.3.2. Bivariate Analysis of Unordered Categorical Variables"
   ]
  },
  {
   "cell_type": "markdown",
   "id": "fb32fb3f",
   "metadata": {},
   "source": [
    "#### 3.3.1.2.1 Purpose vs. Loan Status"
   ]
  },
  {
   "cell_type": "code",
   "execution_count": null,
   "id": "f5262e9c",
   "metadata": {},
   "outputs": [],
   "source": [
    "countplot_graph({\n",
    "    'data': loan_df,\n",
    "    'x': 'purpose',\n",
    "    'figsize': (12, 6),\n",
    "    'hue': 'loan_status',\n",
    "    'xlabel': 'Purpose',\n",
    "    'ylabel': 'Loan Count',\n",
    "    'title': 'Purpose vs Loan Status',\n",
    "    'palette': \"PiYG\",\n",
    "    'x_tick_rotation': 90\n",
    "})"
   ]
  },
  {
   "cell_type": "markdown",
   "id": "588181ab",
   "metadata": {},
   "source": [
    "###### Debt consolidation is the category where maximum loans are issued and people have defaulted the most in the same category."
   ]
  },
  {
   "cell_type": "markdown",
   "id": "7db2e024",
   "metadata": {},
   "source": [
    "#### 3.3.1.2.2. Home Ownership vs. Loan Status"
   ]
  },
  {
   "cell_type": "code",
   "execution_count": null,
   "id": "5389142f",
   "metadata": {},
   "outputs": [],
   "source": [
    "countplot_graph({\n",
    "    'data': loan_df,\n",
    "    'x': 'home_ownership',\n",
    "    'figsize': (12, 6),\n",
    "    'hue': 'loan_status',\n",
    "    'xlabel': 'Home Ownership',\n",
    "    'ylabel': 'Loan Count',\n",
    "    'title': 'Home Ownership vs Loan Status',\n",
    "    'palette': \"YlGnBu\"\n",
    "})"
   ]
  },
  {
   "cell_type": "markdown",
   "id": "2e4c7c36",
   "metadata": {},
   "source": [
    "###### The loan applicants who live in a rented or mortgaged house are more likely to default"
   ]
  },
  {
   "cell_type": "markdown",
   "id": "848a6415",
   "metadata": {},
   "source": [
    "#### 3.3.1.2.3. Verification Status vs. Loan Status"
   ]
  },
  {
   "cell_type": "code",
   "execution_count": null,
   "id": "e9797d90",
   "metadata": {},
   "outputs": [],
   "source": [
    "countplot_graph({\n",
    "    'data': loan_df,\n",
    "    'x': 'verification_status',\n",
    "    'figsize': (12, 6),\n",
    "    'hue': 'loan_status',\n",
    "    'xlabel': 'Verification Status',\n",
    "    'ylabel': 'Loan Count',\n",
    "    'title': 'Verification Status vs Loan Status',\n",
    "    'palette': \"YlOrRd\"\n",
    "})"
   ]
  },
  {
   "cell_type": "markdown",
   "id": "34460a68",
   "metadata": {},
   "source": [
    "###### The loan applicants who have been verified are defaulting more than the applicants who are not verified"
   ]
  },
  {
   "cell_type": "markdown",
   "id": "8638551a",
   "metadata": {},
   "source": [
    "#### 3.3.1.2.4. Address State vs. Loan Status"
   ]
  },
  {
   "cell_type": "code",
   "execution_count": null,
   "id": "8a4f5a37",
   "metadata": {
    "scrolled": false
   },
   "outputs": [],
   "source": [
    "countplot_graph({\n",
    "    'data': loan_df,\n",
    "    'x': 'addr_state',\n",
    "    'figsize': (12, 6),\n",
    "    'hue': 'loan_status',\n",
    "    'xlabel': 'Address State',\n",
    "    'ylabel': 'Loan Count',\n",
    "    'title': 'Address State vs Loan Status',\n",
    "    'palette': \"YlOrRd\",\n",
    "    'x_tick_rotation': 90\n",
    "}, annot=False)"
   ]
  },
  {
   "cell_type": "markdown",
   "id": "631f3d30",
   "metadata": {},
   "source": [
    "###### Loan applicants from the state of California (CA), Florida (FL), and New York (NY) are most likely to default"
   ]
  },
  {
   "cell_type": "markdown",
   "id": "6bce9f5a",
   "metadata": {},
   "source": [
    "### 3.3.2. Bivariate Analysis of Quantitative Variables"
   ]
  },
  {
   "cell_type": "code",
   "execution_count": null,
   "id": "7bced749",
   "metadata": {
    "scrolled": false
   },
   "outputs": [],
   "source": [
    "for col in ['annual_inc_bucket', 'funded_amnt_bucket', 'int_rate_bucket', 'dti_bucket', 'loan_amnt_bucket']:\n",
    "    countplot_graph({\n",
    "    'data': loan_df,\n",
    "    'x': col,\n",
    "    'figsize': (12, 6),\n",
    "    'hue': 'loan_status',\n",
    "    'xlabel': col,\n",
    "    'ylabel': 'Count',\n",
    "    'title': f'{col} vs Loan Status',\n",
    "    'palette': \"Oranges\",\n",
    "    'x_tick_rotation': 90\n",
    "}, annot=True)"
   ]
  },
  {
   "cell_type": "markdown",
   "id": "8ce87d23",
   "metadata": {},
   "source": [
    "#### Observations from Bivariate Analysis of Quantitative Variables\n",
    "\n",
    "- A majority of the loan applicants who defaulted received loan amounts of $15,000 or higher.\n",
    "\n",
    "- The majority of loan applicants who charged off had significantly high Debt-to-Income (DTI) ratios.\n",
    "\n",
    "- A significant portion of loan applicants who defaulted received loans with interest rates falling within the range of 13% to 17%.\n",
    "\n",
    "- A majority of the loan applicants who charged off reported an annual income of less than $40,000."
   ]
  },
  {
   "cell_type": "markdown",
   "id": "b3a4834e",
   "metadata": {},
   "source": [
    "### Summary of Bivariate Analysis\n",
    "\n",
    "1. The loan applicants belonging to Grades B, C, and D contribute to most of the \"Charged Off\" loans.\n",
    "\n",
    "2. Loan applicants belonging to Sub Grades B3, B4, and B5 are more likely to charge off.\n",
    "\n",
    "3. Loan applicants applying for loans with a 60-month term are more likely to default than those taking loans for 36 months.\n",
    "\n",
    "4. Most loan applicants have ten or more years of experience, and they are also the most likely to default.\n",
    "\n",
    "5. The number of loan applicants has steadily increased from 2007 to 2011, indicating a positive trend in the upcoming years.\n",
    "\n",
    "6. December is the most preferred month for taking loans, possibly due to the holiday season.\n",
    "\n",
    "7. The fourth quarter (Q4) is the most preferred quarter for taking loans, primarily because of the upcoming holiday season.\n",
    "\n",
    "8. Debt consolidation is the category where the maximum number of loans are issued, and people have defaulted the most in the same category.\n",
    "\n",
    "9. Loan applicants who live in rented or mortgaged houses are more likely to default.\n",
    "\n",
    "10. Verified loan applicants are defaulting more than those who are not verified.\n",
    "\n",
    "11. Loan applicants from the states of California (CA), Florida (FL), and New York (NY) are most likely to default.\n",
    "\n",
    "12. A majority of the loan applicants who defaulted received loan amounts of $15,000 or higher.\n",
    "\n",
    "13. The majority of loan applicants who charged off had significantly high Debt-to-Income (DTI) ratios.\n",
    "\n",
    "14. A significant portion of loan applicants who defaulted received loans with interest rates falling within the range of 13% to 17%.\n",
    "\n",
    "15. A majority of the loan applicants who charged off reported an annual income of less than $40,000.\n"
   ]
  },
  {
   "cell_type": "markdown",
   "id": "3feca09d",
   "metadata": {},
   "source": [
    "### Inferences of Bivariate Analysis"
   ]
  },
  {
   "cell_type": "markdown",
   "id": "477206b2",
   "metadata": {},
   "source": [
    "1. **Risk Assessment for Grades B, C, and D**: Since loan applicants from Grades B, C, and D contribute to most of the \"Charged Off\" loans, the company should consider implementing stricter risk assessment and underwriting criteria for applicants falling into these grades.\n",
    "\n",
    "2. **Subgrades B3, B4, and B5**: Pay special attention to applicants with Subgrades B3, B4, and B5, as they are more likely to charge off. Implementing additional risk mitigation measures or offering them lower loan amounts could be considered.\n",
    "\n",
    "3. **Term Length**: Given that applicants opting for 60-month loans are more likely to default, the company should consider evaluating the risk associated with longer-term loans and potentially limiting the maximum term or adjusting interest rates accordingly.\n",
    "\n",
    "4. **Experience and Default Probability**: Loan applicants with ten or more years of experience are more likely to default. This suggests that experience alone may not be a reliable indicator of creditworthiness. The company should use a more comprehensive credit scoring system that factors in other risk-related attributes.\n",
    "\n",
    "5. **Positive Growth Trend**: The steady increase in the number of loan applicants from 2007 to 2011 indicates growth in the market. The company can capitalize on this trend by maintaining a competitive edge in the industry while keeping risk management practices robust.\n",
    "\n",
    "6. **Seasonal Trends**: December and Q4 are peak periods for loan applications, likely due to the holiday season. The company should anticipate increased demand during these periods and ensure efficient processing to meet customer needs.\n",
    "\n",
    "7. **Debt Consolidation Risk**: Since debt consolidation is the category with the maximum number of loans and high default rates, the company should carefully evaluate applicants seeking debt consolidation loans and potentially adjust interest rates or offer financial counseling services.\n",
    "\n",
    "8. **Housing Status and Default Risk**: Applicants living in rented or mortgaged houses are more likely to default. This information can be considered in the underwriting process to assess housing stability and its impact on repayment ability.\n",
    "\n",
    "9. **Verification Process**: Verified loan applicants are defaulting more than those who are not verified. The company should review its verification process to ensure it effectively assesses applicant creditworthiness and consider improvements or adjustments.\n",
    "\n",
    "10. **Geographic Risk**: Loan applicants from states like California (CA), Florida (FL), and New York (NY) are more likely to default. The company should monitor regional risk trends and adjust lending strategies or rates accordingly in these areas.\n",
    "\n",
    "11. **High Loan Amounts**: Applicants receiving loan amounts of $15,000 or higher are more likely to default. The company can mitigate this risk by conducting more thorough assessments for larger loan requests and potentially capping loan amounts for higher-risk applicants.\n",
    "\n",
    "12. **DTI and Interest Rates**: High Debt-to-Income (DTI) ratios and interest rates in the 13%-17% range are associated with defaults. The company should review its interest rate determination process and consider adjusting rates based on DTI ratios to better align with the borrower's ability to repay.\n",
    "\n",
    "13. **Low Annual Income**: Applicants with annual incomes less than $40,000 have a higher likelihood of defaulting. The company should consider offering financial education resources or setting maximum loan amounts based on income levels to ensure affordability for borrowers.\n"
   ]
  },
  {
   "cell_type": "markdown",
   "id": "a8073dd3",
   "metadata": {},
   "source": [
    "## 4. Correlation Analysis"
   ]
  },
  {
   "cell_type": "code",
   "execution_count": 86,
   "id": "ca614b91",
   "metadata": {},
   "outputs": [],
   "source": [
    "correlation_df = loan_df.copy()\n",
    "# Dropping columns which are irrelevant to analysis\n",
    "correlation_df = correlation_df.drop(['issue_y', 'issue_m'], axis = 1)"
   ]
  },
  {
   "cell_type": "code",
   "execution_count": null,
   "id": "7915b717",
   "metadata": {},
   "outputs": [],
   "source": [
    "numeric_df = correlation_df.select_dtypes(include=[np.number])\n",
    "corr = numeric_df.corr()\n",
    "sns.set(font_scale=1.1)\n",
    "plt.figure(figsize=(12, 8))\n",
    "sns.heatmap(corr, annot=True, fmt=\".2f\", cmap=\"Greens\", cbar=True)\n",
    "plt.tight_layout()\n",
    "plt.show()"
   ]
  },
  {
   "cell_type": "markdown",
   "id": "f0983e59",
   "metadata": {},
   "source": [
    "## Inferences from Correlation Metrics\n",
    "\n",
    "**Strong Correlation**\n",
    "- `installment` has a strong correlation with funded_amnt, loan_amnt, and funded_amnt_inv\n",
    "- `term` has a strong correlation with interest rate\n",
    "- `annual_inc` has a strong correlation with loan_amount\n",
    "\n",
    "\n",
    "**Weak Correlation**\n",
    "- `dti` has weak correlation with most of the fields\n",
    "- `emp_length` has weak correlation with most of the fields\n",
    "\n",
    "\n",
    "**Negative Correlation**\n",
    "- `pub_rec_bankrupticies` has a negative correlation with almost every field\n",
    "- `annual_inc` has a negative correlation with dti\n"
   ]
  },
  {
   "cell_type": "markdown",
   "id": "e39f6ecc",
   "metadata": {},
   "source": [
    "## 5. Multivariate Analysis"
   ]
  },
  {
   "cell_type": "markdown",
   "id": "16c8fc04",
   "metadata": {},
   "source": [
    "###### Multivariate analysis is done for below columns against loan status and the charged off percentage"
   ]
  },
  {
   "cell_type": "code",
   "execution_count": null,
   "id": "f0e595de",
   "metadata": {
    "scrolled": false
   },
   "outputs": [],
   "source": [
    "columns_config = {\n",
    "    'grade': {},\n",
    "    'sub_grade': {'stacked': True},\n",
    "    'emp_length': {},\n",
    "    'addr_state': {},\n",
    "    'purpose': {},\n",
    "    'home_ownership': {},\n",
    "    'verification_status': {'stacked': True},\n",
    "    'annual_inc_bucket': {'stacked': True},\n",
    "    'dti_bucket': {},\n",
    "    'int_rate_bucket': {}\n",
    "}\n",
    "\n",
    "for column, plot_config in columns_config.items():\n",
    "    stacked = plot_config.get('stacked', False)\n",
    "    plot_charged_off_percentage(loan_df, column, stacked)\n"
   ]
  },
  {
   "cell_type": "markdown",
   "id": "219ee98a",
   "metadata": {},
   "source": [
    "### Summary of Multivariate Analysis\n",
    "\n",
    "- Tendency to default the loan is likely with loan applicants belonging to B, C, D grades.\n",
    "- Borrowers from sub grade B3, B4 and B5 have maximum tendency to default.\n",
    "- Loan applicants with 10 years of experience has maximum tendancy to default the loan.\n",
    "- Borrowers from states CA, FL, NJ have maximum tendency to deafult the loan.\n",
    "- Borrowers from Rented House Ownership have highest tendency to default the loan.\n",
    "- The borrowers who are in lower income groups have maximum tendency to default the loan and it generally decreases with the increase in the annual income.\n",
    "- The tendency to default the loan is increasing with increase in the interest rate."
   ]
  }
 ],
 "metadata": {
  "kernelspec": {
   "display_name": "Python 3",
   "language": "python",
   "name": "python3"
  },
  "language_info": {
   "codemirror_mode": {
    "name": "ipython",
    "version": 3
   },
   "file_extension": ".py",
   "mimetype": "text/x-python",
   "name": "python",
   "nbconvert_exporter": "python",
   "pygments_lexer": "ipython3",
   "version": "3.9.6"
  }
 },
 "nbformat": 4,
 "nbformat_minor": 5
}
